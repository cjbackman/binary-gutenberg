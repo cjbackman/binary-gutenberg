{
 "cells": [
  {
   "cell_type": "code",
   "execution_count": 1,
   "id": "4663fcf9-7bbc-4b0d-b152-0aa5ec3f4316",
   "metadata": {},
   "outputs": [],
   "source": [
    "import fitz  # PyMuPDF\n",
    "import cv2\n",
    "import numpy as np\n",
    "import os"
   ]
  },
  {
   "cell_type": "code",
   "execution_count": 2,
   "id": "a80ff535-b34f-402b-b576-fe22ead2f142",
   "metadata": {},
   "outputs": [],
   "source": [
    "def save_image(image, page_num, img_count, output_dir='extracted_images'):\n",
    "    if not os.path.exists(output_dir):\n",
    "        os.makedirs(output_dir)\n",
    "\n",
    "    image_filename = f'page_{page_num}.{img_count}.png'\n",
    "    image_filepath = os.path.join(output_dir, image_filename)\n",
    "    cv2.imwrite(image_filepath, image)\n",
    "\n",
    "def extract_and_crop_images_from_scanned_pdf(pdf_path, output_dir='extracted_images'):\n",
    "    doc = fitz.open(pdf_path)\n",
    "\n",
    "    for page_num in range(len(doc)):\n",
    "        page = doc.load_page(page_num)\n",
    "        pix = page.get_pixmap()\n",
    "        image = np.frombuffer(pix.samples, dtype=np.uint8).reshape(pix.h, pix.w, pix.n)\n",
    "\n",
    "        # Convert to grayscale for easier processing\n",
    "        gray = cv2.cvtColor(image, cv2.COLOR_BGR2GRAY)\n",
    "        \n",
    "        # Use thresholding and contour detection to find images\n",
    "        # These parameters might need adjustment for different types of scans\n",
    "        _, thresh = cv2.threshold(gray, 150, 255, cv2.THRESH_BINARY_INV)\n",
    "        contours, _ = cv2.findContours(thresh, cv2.RETR_EXTERNAL, cv2.CHAIN_APPROX_SIMPLE)\n",
    "\n",
    "        img_count = 1\n",
    "        for contour in contours:\n",
    "            # Optionally, filter out too small areas which might not be images\n",
    "            if cv2.contourArea(contour) < 1000: \n",
    "                continue\n",
    "\n",
    "            x, y, w, h = cv2.boundingRect(contour)\n",
    "            cropped_image = image[y:y+h, x:x+w]\n",
    "            save_image(cropped_image, page_num + 1, img_count, output_dir)\n",
    "            img_count += 1\n",
    "\n",
    "    doc.close()"
   ]
  },
  {
   "cell_type": "code",
   "execution_count": 3,
   "id": "3531d870-d66a-4bf1-a89b-534d534eed7d",
   "metadata": {},
   "outputs": [],
   "source": [
    "# Usage\n",
    "pdf_file = \"../input/test.pdf\"  # Replace with your PDF file path\n",
    "extract_and_crop_images_from_scanned_pdf(pdf_file)"
   ]
  },
  {
   "cell_type": "code",
   "execution_count": null,
   "id": "03e230ab-dec2-4b08-8585-9dd08fdc16c4",
   "metadata": {},
   "outputs": [],
   "source": []
  }
 ],
 "metadata": {
  "kernelspec": {
   "display_name": "binary-gutenberg",
   "language": "python",
   "name": "binary-gutenberg"
  },
  "language_info": {
   "codemirror_mode": {
    "name": "ipython",
    "version": 3
   },
   "file_extension": ".py",
   "mimetype": "text/x-python",
   "name": "python",
   "nbconvert_exporter": "python",
   "pygments_lexer": "ipython3",
   "version": "3.11.6"
  }
 },
 "nbformat": 4,
 "nbformat_minor": 5
}
